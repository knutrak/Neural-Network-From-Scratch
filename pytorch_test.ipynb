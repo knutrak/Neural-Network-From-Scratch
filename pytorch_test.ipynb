{
 "cells": [
  {
   "cell_type": "markdown",
   "id": "bfaf95ea",
   "metadata": {},
   "source": [
    "***Test trained pyTorch weights on my network***\n",
    "\n",
    "The goal of this notebook was to see if my model was set up correctly by training a pyTorch model and then applying those weights to my model to see if I acheived the same result.\n",
    "\n",
    "Spoiler: It did"
   ]
  },
  {
   "cell_type": "code",
   "execution_count": null,
   "id": "ff0a8988",
   "metadata": {},
   "outputs": [
    {
     "data": {
      "text/plain": [
       "(118, 3)"
      ]
     },
     "execution_count": 1,
     "metadata": {},
     "output_type": "execute_result"
    }
   ],
   "source": [
    "import numpy as np\n",
    "from Model import NeuralNet\n",
    "PATH = \"classification2.txt\" #Data format: [feature_1, feature_2, label]\n",
    "\n",
    "X,y = [], []\n",
    "data_set = []\n",
    "with open(PATH, \"r\") as file:\n",
    "    for line in file:\n",
    "        clean_line = line.strip()\n",
    "        train_test = clean_line.split(\",\")\n",
    "        \n",
    "        data_set.append(np.array([float(s) for s in train_test]))\n",
    "\n",
    " \n",
    "data_set = np.array(data_set)\n",
    "data_set.shape"
   ]
  },
  {
   "cell_type": "code",
   "execution_count": 2,
   "id": "f928559b",
   "metadata": {},
   "outputs": [
    {
     "data": {
      "text/plain": [
       "((94, 2), (94, 1), (24, 2), (24, 1), (118, 3))"
      ]
     },
     "execution_count": 2,
     "metadata": {},
     "output_type": "execute_result"
    }
   ],
   "source": [
    "np.random.seed(42)\n",
    "\n",
    "data_set = np.random.permutation(data_set)\n",
    "\n",
    "\n",
    "X, y = data_set[:,:-1], data_set[:,-1].reshape(-1,1)\n",
    "\n",
    "train_test_split = 0.8\n",
    "m_train = int(len(data_set)*train_test_split)\n",
    "X_train, y_train = X[:m_train], y[:m_train]\n",
    "X_test, y_test = X[m_train:], y[m_train:]\n",
    "\n",
    "X_train.shape, y_train.shape, X_test.shape, y_test.shape, data_set.shape"
   ]
  },
  {
   "cell_type": "code",
   "execution_count": null,
   "id": "c32bc7dd",
   "metadata": {},
   "outputs": [],
   "source": [
    "import torch\n",
    "from torch import nn\n",
    "from torch.utils.data import DataLoader, TensorDataset\n",
    "\n",
    "Xtr_t = torch.from_numpy(X_train.astype(np.float32)) #X_tra_t -> X_train_tensor\n",
    "ytr_t = torch.from_numpy(y_train.astype(np.float32)).view(-1, 1)\n",
    "Xte_t = torch.from_numpy(X_test.astype(np.float32))\n",
    "yte_t = torch.from_numpy(y_test.astype(np.float32)).view(-1, 1)\n",
    "\n",
    "\n",
    "\n",
    "train_loader = DataLoader(TensorDataset(Xtr_t, ytr_t), batch_size=32, shuffle=True)\n"
   ]
  },
  {
   "cell_type": "code",
   "execution_count": 4,
   "id": "9cd4fb30",
   "metadata": {},
   "outputs": [],
   "source": [
    "class Net(nn.Module):\n",
    "    def __init__(self):\n",
    "        super().__init__()\n",
    "        self.net = nn.Sequential(\n",
    "            nn.Linear(2, 8),\n",
    "            nn.Sigmoid(),\n",
    "            nn.Linear(8,5),\n",
    "            nn.Sigmoid(),\n",
    "            nn.Linear(5, 1)   # logits (no sigmoid here)\n",
    "        )\n",
    "    def forward(self, x):\n",
    "        return self.net(x)     # returns logits\n",
    "\n",
    "def acc_from_logits(logits, targets):\n",
    "    preds = (torch.sigmoid(logits) >= 0.5).float()\n",
    "    return (preds.eq(targets)).float().mean()\n",
    "\n"
   ]
  },
  {
   "cell_type": "code",
   "execution_count": 5,
   "id": "df614cf8",
   "metadata": {},
   "outputs": [
    {
     "name": "stdout",
     "output_type": "stream",
     "text": [
      "Epoch    0 | train loss 0.6945 acc 0.489 | test loss 0.6891 acc 0.583\n",
      "Epoch   50 | train loss 0.6919 acc 0.511 | test loss 0.6981 acc 0.417\n",
      "Epoch  100 | train loss 0.6826 acc 0.574 | test loss 0.6981 acc 0.625\n",
      "Epoch  150 | train loss 0.6551 acc 0.585 | test loss 0.6821 acc 0.625\n",
      "Epoch  200 | train loss 0.6019 acc 0.745 | test loss 0.6472 acc 0.583\n",
      "Epoch  250 | train loss 0.5029 acc 0.809 | test loss 0.6101 acc 0.583\n",
      "Epoch  300 | train loss 0.3681 acc 0.862 | test loss 0.5239 acc 0.833\n",
      "Epoch  350 | train loss 0.3246 acc 0.872 | test loss 0.5442 acc 0.750\n",
      "Epoch  400 | train loss 0.3050 acc 0.894 | test loss 0.5765 acc 0.750\n",
      "Epoch  450 | train loss 0.2944 acc 0.883 | test loss 0.6112 acc 0.750\n",
      "Epoch  500 | train loss 0.2861 acc 0.883 | test loss 0.6298 acc 0.750\n",
      "Epoch  550 | train loss 0.2804 acc 0.883 | test loss 0.6501 acc 0.750\n",
      "Epoch  600 | train loss 0.2755 acc 0.883 | test loss 0.6644 acc 0.750\n",
      "Epoch  650 | train loss 0.2712 acc 0.883 | test loss 0.6731 acc 0.750\n",
      "Epoch  700 | train loss 0.2681 acc 0.883 | test loss 0.6890 acc 0.750\n",
      "Epoch  750 | train loss 0.2649 acc 0.883 | test loss 0.6957 acc 0.750\n",
      "Epoch  800 | train loss 0.2614 acc 0.883 | test loss 0.6971 acc 0.750\n",
      "Epoch  850 | train loss 0.2584 acc 0.872 | test loss 0.7076 acc 0.750\n",
      "Epoch  900 | train loss 0.2562 acc 0.872 | test loss 0.7241 acc 0.750\n",
      "Epoch  950 | train loss 0.2531 acc 0.872 | test loss 0.7250 acc 0.750\n"
     ]
    }
   ],
   "source": [
    "torch.manual_seed(42)\n",
    "\n",
    "model = Net()\n",
    "criterion = nn.BCEWithLogitsLoss()\n",
    "optimizer = torch.optim.Adam(model.parameters(), lr=1e-2)\n",
    "\n",
    "\n",
    "epochs = 1000\n",
    "for epoch in range(epochs):\n",
    "    model.train()\n",
    "    for xb, yb in train_loader:\n",
    "        optimizer.zero_grad()\n",
    "        logits = model(xb)\n",
    "        loss = criterion(logits, yb)\n",
    "        loss.backward()\n",
    "        optimizer.step()\n",
    "\n",
    "    if epoch % 50 == 0:\n",
    "        model.eval()\n",
    "        with torch.inference_mode():\n",
    "            tr_logits = model(Xtr_t)\n",
    "            tr_loss = criterion(tr_logits, ytr_t).item()\n",
    "            tr_acc  = acc_from_logits(tr_logits, ytr_t).item()\n",
    "\n",
    "            te_logits = model(Xte_t)\n",
    "            te_loss = criterion(te_logits, yte_t).item()\n",
    "            te_acc  = acc_from_logits(te_logits, yte_t).item()\n",
    "\n",
    "        print(f\"Epoch {epoch:4d} | train loss {tr_loss:.4f} acc {tr_acc:.3f} | \"\n",
    "              f\"test loss {te_loss:.4f} acc {te_acc:.3f}\")"
   ]
  },
  {
   "cell_type": "code",
   "execution_count": null,
   "id": "372f3b67",
   "metadata": {},
   "outputs": [],
   "source": [
    "NN_scratch = NeuralNet(n_inputs=2, hidden_layers=[8, 5], n_output=1)\n",
    "\n",
    "def copy_torch_to_scratch(torch_model, scratch_model):\n",
    "    \n",
    "    linear_layers = [m for m in torch_model.modules() if isinstance(m, nn.Linear)]\n",
    "    assert len(linear_layers) == len(scratch_model.W), \"Architectures don't match.\"\n",
    "\n",
    "    for l, layer in enumerate(linear_layers):\n",
    "        W = layer.weight.detach().cpu().numpy().astype(np.float64)  # (out, in)\n",
    "        b = layer.bias.detach().cpu().numpy().astype(np.float64)    # (out,)\n",
    "        W_scratch = np.concatenate([b[:, None], W], axis=1)         # (out, in+1) -> [bias | weights]\n",
    "        assert W_scratch.shape == scratch_model.W[l].shape, f\"Shape mismatch at layer {l}\"\n",
    "        scratch_model.W[l][:] = W_scratch"
   ]
  },
  {
   "cell_type": "code",
   "execution_count": 7,
   "id": "19f1b3f5",
   "metadata": {},
   "outputs": [],
   "source": [
    "def sigmoid(z): #activation function\n",
    "    return 1/(1+np.exp(-z))\n",
    "\n",
    "def sigmoid_derivative(activation_l):\n",
    "    return activation_l*(1-activation_l)"
   ]
  },
  {
   "cell_type": "code",
   "execution_count": 8,
   "id": "55feae5a",
   "metadata": {},
   "outputs": [],
   "source": [
    "def accuracy(pred, labels):\n",
    "\n",
    "    comparison = (pred==labels)\n",
    "    correct_pred = np.count_nonzero(comparison)\n",
    "    return correct_pred/len(labels)"
   ]
  },
  {
   "cell_type": "code",
   "execution_count": 9,
   "id": "c4ddc5a4",
   "metadata": {},
   "outputs": [],
   "source": [
    "def test(NN: NeuralNet, X_test, y_test):\n",
    "    loss = 0\n",
    "    predictions = []\n",
    "    for i in range(len(X_test)):\n",
    "        pred = NN.forward_prop(X_test[i])[-1]\n",
    "        loss += 1/len(X_test) * pred\n",
    "\n",
    "        predictions.append(1 if pred >=0.5 else 0)\n",
    "    acc = accuracy(np.array([predictions]).T,y_test)\n",
    "\n",
    "    return loss, acc"
   ]
  },
  {
   "cell_type": "code",
   "execution_count": 10,
   "id": "784d7632",
   "metadata": {},
   "outputs": [
    {
     "name": "stdout",
     "output_type": "stream",
     "text": [
      "[[0.4689703]] 0.75\n"
     ]
    }
   ],
   "source": [
    "copy_torch_to_scratch(model, NN_scratch)\n",
    "test_loss, test_acc = test(NN_scratch, X_test, y_test)\n",
    "print(test_loss, test_acc)"
   ]
  },
  {
   "cell_type": "code",
   "execution_count": null,
   "id": "635b300a",
   "metadata": {},
   "outputs": [],
   "source": []
  }
 ],
 "metadata": {
  "kernelspec": {
   "display_name": ".venv",
   "language": "python",
   "name": "python3"
  },
  "language_info": {
   "codemirror_mode": {
    "name": "ipython",
    "version": 3
   },
   "file_extension": ".py",
   "mimetype": "text/x-python",
   "name": "python",
   "nbconvert_exporter": "python",
   "pygments_lexer": "ipython3",
   "version": "3.10.6"
  }
 },
 "nbformat": 4,
 "nbformat_minor": 5
}
